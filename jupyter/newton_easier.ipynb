{
 "cells": [
  {
   "cell_type": "code",
   "execution_count": 3,
   "metadata": {},
   "outputs": [],
   "source": [
    "steps = 4"
   ]
  },
  {
   "cell_type": "code",
   "execution_count": 4,
   "metadata": {},
   "outputs": [],
   "source": [
    "def function(x):\n",
    "    return x**2-2\n",
    "def derivative(x):\n",
    "    return 2*x\n",
    "def newton_step(x, x0):\n",
    "    return x-function(x)/x0\n",
    "def newton(start):\n",
    "    k=0\n",
    "    x_current=start\n",
    "    x0 = derivative(start)\n",
    "    while k < steps:\n",
    "        x_current = newton_step(x_current, x0)\n",
    "        k = k+1\n",
    "    return x_current\n",
    "    "
   ]
  },
  {
   "cell_type": "code",
   "execution_count": 5,
   "metadata": {},
   "outputs": [
    {
     "name": "stdout",
     "output_type": "stream",
     "text": [
      "-1.738799047495919\n",
      "-1.5780052947739023\n",
      "-1.4631598804189372\n",
      "-1.4161603450775146\n",
      "-1.407684326171875\n",
      "1.407684326171875\n",
      "1.4161603450775146\n",
      "1.4631598804189372\n",
      "1.5780052947739023\n"
     ]
    }
   ],
   "source": [
    "for i in range(-5,5):\n",
    "    if i == 0:continue\n",
    "    print(newton(i))\n"
   ]
  },
  {
   "cell_type": "code",
   "execution_count": null,
   "metadata": {},
   "outputs": [],
   "source": []
  }
 ],
 "metadata": {
  "kernelspec": {
   "display_name": "Python 3",
   "language": "python",
   "name": "python3"
  },
  "language_info": {
   "codemirror_mode": {
    "name": "ipython",
    "version": 3
   },
   "file_extension": ".py",
   "mimetype": "text/x-python",
   "name": "python",
   "nbconvert_exporter": "python",
   "pygments_lexer": "ipython3",
   "version": "3.8.3"
  }
 },
 "nbformat": 4,
 "nbformat_minor": 4
}
