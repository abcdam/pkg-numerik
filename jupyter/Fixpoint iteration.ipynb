{
 "cells": [
  {
   "cell_type": "code",
   "execution_count": 74,
   "metadata": {},
   "outputs": [],
   "source": [
    "import numpy as np\n",
    "import matplotlib.pyplot as plt"
   ]
  },
  {
   "cell_type": "code",
   "execution_count": 75,
   "metadata": {},
   "outputs": [],
   "source": [
    "# init\n",
    "plot_range = (0,np.pi+step)\n",
    "step = 0.00001\n",
    "xLeft = 1\n",
    "xRight = 2\n",
    "precision = 0.000001 # fuer a priori"
   ]
  },
  {
   "cell_type": "code",
   "execution_count": 97,
   "metadata": {},
   "outputs": [],
   "source": [
    "# functions\n",
    "def function(x):\n",
    "    return 2+1/(np.cos(x+np.pi/4)-1)\n",
    "def derivative(x):\n",
    "    return np.sin(x+np.pi/4)/(np.cos(x+np.pi/4)-1)**2\n",
    "def lipschitz(dF_values):\n",
    "    return np.max(np.abs(dF_values))\n",
    "\n",
    "def fixpoint_iteration(lipschitz,x0,precision=1e-6,iterations=1000):\n",
    "    k=0\n",
    "    notConverged=True\n",
    "    while (notConverged and k<iterations):\n",
    "        x1=function(x0)\n",
    "        incr=np.abs(x1-x0)\n",
    "        error=lipschitz/(1-lipschitz)*incr\n",
    "        notConverged=error>precision\n",
    "        k=k+1\n",
    "        x0=x1\n",
    "    n=k\n",
    "    return x1"
   ]
  },
  {
   "cell_type": "code",
   "execution_count": 77,
   "metadata": {},
   "outputs": [
    {
     "data": {
      "text/plain": [
       "<matplotlib.legend.Legend at 0x1b84a08a340>"
      ]
     },
     "execution_count": 77,
     "metadata": {},
     "output_type": "execute_result"
    },
    {
     "data": {
      "image/png": "[encoded data removed]",
      "text/plain": [
       "<Figure size 432x288 with 1 Axes>"
      ]
     },
     "metadata": {
      "needs_background": "light"
     },
     "output_type": "display_data"
    }
   ],
   "source": [
    "# plot\n",
    "x_values = np.arange(plot_range[0],plot_range[1],step)\n",
    "y1_values = [function(x) for x in x_values]\n",
    "y2_values = [derivative(x) for x in x_values]\n",
    "\n",
    "plt.plot(x_values, y1_values, label='f(x)')\n",
    "plt.plot(x_values, y2_values, label='f\\'(x)')\n",
    "plt.legend()"
   ]
  },
  {
   "cell_type": "code",
   "execution_count": 78,
   "metadata": {},
   "outputs": [
    {
     "name": "stdout",
     "output_type": "stream",
     "text": [
      "lipschitz alpha = 0.6640946355544965\n"
     ]
    }
   ],
   "source": [
    "x_values = np.arange(xLeft,xRight,step)\n",
    "y1_values = [function(x) for x in x_values]\n",
    "y2_values = [derivative(x) for x in x_values]\n",
    "\n",
    "# condition 1: smallest f(x) >= left border\n",
    "cond_1 = np.min(y1_values) >= xLeft\n",
    "# condition 2: largest f(x) <= right border\n",
    "cond_2 = np.max(y1_values) <= xRight\n",
    "\n",
    "if cond_1 and cond_2 and lipschitz(y2_values) <= 1:\n",
    "    print('lipschitz alpha = {}'.format(lipschitz(y2_values)))\n",
    "else:\n",
    "    print('Fixpunktsatz von Banach nicht erfüllt')\n",
    "    print(cond_1)\n",
    "    print(cond_2)\n",
    "    print(lipschitz(y2_values)<=1)"
   ]
  },
  {
   "cell_type": "code",
   "execution_count": 98,
   "metadata": {},
   "outputs": [
    {
     "name": "stdout",
     "output_type": "stream",
     "text": [
      "a priori abschaetzung: 33 iterationen maximal fuer genauigkeit 1e-06\n",
      "a posteriori genauigkeit: 0.012850688283082362\n"
     ]
    },
    {
     "data": {
      "text/plain": [
       "1.3477641496457973"
      ]
     },
     "execution_count": 98,
     "metadata": {},
     "output_type": "execute_result"
    }
   ],
   "source": [
    "# a priori\n",
    "x0 = xLeft\n",
    "x1 = function(x0)\n",
    "result = np.log(precision/np.abs(x1 - x0)*(1-lipschitz(y2_values)))/np.log(lipschitz(y2_values))\n",
    "print('a priori abschaetzung: {} iterationen maximal fuer genauigkeit {}'.format(int(result+1), precision))\n",
    "\n",
    "# a posteriori\n",
    "#\n",
    "# x1 is x_(i+1) and x_0 is x_i\n",
    "# alternatively use x1 = fixpoint_iteration(lipschitz(y2_values),n,precision,iteration_amount)\n",
    "# and               x0 = fixpoint_iteration(lipschitz(y2_values),n-1,precision,iteration_amount)\n",
    "#\n",
    "x1 = [1.3441]\n",
    "x0 = [1.3376]\n",
    "result = lipschitz(y2_values)/(1-lipschitz(y2_values))*np.abs(x1[0]-x0[0])\n",
    "print('a posteriori genauigkeit: {}'.format(result))\n",
    "\n",
    "fixpoint_iteration(lipschitz(y2_values), 1, 0.00001,100)"
   ]
  },
  {
   "cell_type": "code",
   "execution_count": null,
   "metadata": {},
   "outputs": [],
   "source": []
  }
 ],
 "metadata": {
  "kernelspec": {
   "display_name": "Python 3",
   "language": "python",
   "name": "python3"
  },
  "language_info": {
   "codemirror_mode": {
    "name": "ipython",
    "version": 3
   },
   "file_extension": ".py",
   "mimetype": "text/x-python",
   "name": "python",
   "nbconvert_exporter": "python",
   "pygments_lexer": "ipython3",
   "version": "3.8.3"
  }
 },
 "nbformat": 4,
 "nbformat_minor": 4
}
