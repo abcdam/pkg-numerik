{
 "cells": [
  {
   "cell_type": "code",
   "execution_count": 1,
   "metadata": {},
   "outputs": [],
   "source": [
    "#!/usr/bin/python3\n",
    "import numpy as np \n",
    "import sys\n",
    "\n",
    "d = False\n",
    "\n",
    "def solve(A,b):\n",
    "    if correct_dimensions(A,b):\n",
    "        return execute_Gauss(A,b)\n",
    "\n",
    "def correct_dimensions(A,b):\n",
    "    if len(A.shape) != 2 or len(b.shape) != 2:\n",
    "        raise Exception(\"A and b must have only 2 dimensions\")\n",
    "    if b.shape[0] != A.shape[0]:\n",
    "        raise Exception(\"{}{}{}{}{}\".format(\"b(\",b.size,\") does not have the same amount of elements as A(\", A.shape[0],\") has rows\"))\n",
    "    if A.shape[0] != A.shape[1]:\n",
    "        raise Exception(\"A is not an nxn Matrix\")\n",
    "    return True\n",
    "\n",
    "def execute_Gauss(A,b):\n",
    "    (L,R,p) = decomposition(A)\n",
    "    y_solution = forward_substitution(L,p,b)\n",
    "    x_solution = back_substitution(R,y_solution)\n",
    "    detA = np.linalg.det(A)\n",
    "    return [L,R,p,x_solution,detA]\n",
    "\n",
    "def decomposition(A):\n",
    "    p = np.identity(len(A))\n",
    "    L = np.identity(len(A))\n",
    "    \n",
    "    for i in range(A.shape[0]):\n",
    "        if d:\n",
    "            print(\"R=\\n{}\\nL=\\n{}\\n\".format(A,L)) \n",
    "        swap_rows(A, L, i, p)\n",
    "        for j in range(i+1, A.shape[0]):\n",
    "            factor = A[j][i]/A[i][i]\n",
    "            L[j][i] = factor\n",
    "            for k in range(A.shape[1]):\n",
    "                A[j][k] = A[j][k]-factor*A[i][k]\n",
    "    return (L,A,p)\n",
    "\n",
    "def forward_substitution(L,p,b):\n",
    "    Pb = np.matmul(p,b)\n",
    "    L_temp = np.copy(L)\n",
    "    solution_vector = []\n",
    "    for i in range(0,len(L_temp)):\n",
    "        solution_vector.append(Pb[i][0]/L_temp[i][i])\n",
    "        for k in range(i+1,len(L_temp)):\n",
    "            Pb[k][0] -=L_temp[k][i]*solution_vector[-1]\n",
    "    return np.transpose(np.array(solution_vector)[np.newaxis])\n",
    "\n",
    "def back_substitution(A, y_solution):\n",
    "    solution_vector = []\n",
    "    for i in range(A.shape[0]-1,-1,-1):\n",
    "        solution_vector.insert(0,y_solution[i][0]/A[i][i])\n",
    "        for k in range(i-1,-1,-1):\n",
    "            y_solution[k][0] -=A[k][i]*solution_vector[0]\n",
    "    return np.array(solution_vector)[np.newaxis]\n",
    "\n",
    "def swap_rows(A, L, i, p):\n",
    "    max_v = np.amax(A[i:,i]) # max value in row [i:,i]\n",
    "    if max_v == 0 : raise Exception(\"Couldn't find a row to use as pivot at \"+str(i)+\":\"+str(i))\n",
    "    k = np.where(A[i:,i] == max_v)[0][0] + i # get index of that value\n",
    "    A[[i,k]] = A[[k,i]] # swap row i with row k\n",
    "    p[[i,k]] = p[[k,i]]\n",
    "    if i > 0: \n",
    "        p_temp = np.identity(len(A))\n",
    "        p_temp[[i,k]] = p_temp[[k,i]]\n",
    "        if d:\n",
    "            print(\"P=\\n{}\\n--------------\".format(p_temp))\n",
    "        L[:,0:i] = np.matmul(p_temp,L[:,0:i])\n",
    "    elif d:\n",
    "        print(\"\\n--------------\")\n",
    "    return k"
   ]
  },
  {
   "cell_type": "code",
   "execution_count": 5,
   "metadata": {},
   "outputs": [
    {
     "name": "stdout",
     "output_type": "stream",
     "text": [
      "[[1.   0.   0.  ]\n",
      " [0.25 1.   0.  ]\n",
      " [0.25 0.4  1.  ]]\n",
      "[[240 120  80]\n",
      " [  0 150 150]\n",
      " [  0   0 420]]\n",
      "[[1. 0. 0.]\n",
      " [0. 1. 0.]\n",
      " [0. 0. 1.]]\n",
      "[[ 3. 15.  7.]]\n",
      "15119999.999999966\n"
     ]
    }
   ],
   "source": [
    "A = np.array([[240,120,80],[60,180,170],[60,90,500]])\n",
    "b = np.array([[3080],[4070],[5030]])\n",
    "[L,R,p,x_solution,detA] = solve(A,b)\n",
    "print(L)\n",
    "print(R)\n",
    "print(p)\n",
    "print(x_solution)\n",
    "print(detA)"
   ]
  },
  {
   "cell_type": "code",
   "execution_count": null,
   "metadata": {},
   "outputs": [],
   "source": []
  }
 ],
 "metadata": {
  "kernelspec": {
   "display_name": "Python 3",
   "language": "python",
   "name": "python3"
  },
  "language_info": {
   "codemirror_mode": {
    "name": "ipython",
    "version": 3
   },
   "file_extension": ".py",
   "mimetype": "text/x-python",
   "name": "python",
   "nbconvert_exporter": "python",
   "pygments_lexer": "ipython3",
   "version": "3.8.3"
  }
 },
 "nbformat": 4,
 "nbformat_minor": 4
}
