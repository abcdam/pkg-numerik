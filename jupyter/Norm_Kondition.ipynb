{
 "cells": [
  {
   "cell_type": "code",
   "execution_count": 1,
   "metadata": {},
   "outputs": [],
   "source": [
    "import numpy as np"
   ]
  },
  {
   "cell_type": "markdown",
   "metadata": {},
   "source": [
    "Für Matrizen, deren Kondition cond(A) gross ist, können sich kleine Fehler im Vektor b (bzw. Rundungs-fehler im Verfahren) zu grossen Fehlern im Ergebnis verstärken. Man spricht in diesem Fall von schlecht konditionierten Matrizen."
   ]
  },
  {
   "cell_type": "code",
   "execution_count": 23,
   "metadata": {},
   "outputs": [],
   "source": [
    "def cond(A):\n",
    "    cond_1 = np.linalg.norm(A, ord=1) * np.linalg.norm(np.linalg.inv(A),ord=1)\n",
    "    cond_inf = np.linalg.norm(A, ord=np.inf) * np.linalg.norm(np.linalg.inv(A),ord=np.inf)\n",
    "    print('Die Kondition per 1-Norm der Matrix lautet: {}'.format(cond_1))\n",
    "    print('Die Kondition per Unendlichkeits-Norm der Matrix lautet: {}'.format(cond_inf))\n",
    "    \n",
    "def matrix_norm(A):\n",
    "    print('1-Norm der Matrix: ' + str(np.linalg.norm(A, ord=1)))\n",
    "    print('Unendlichkeits-Norm der Matrix: ' + str(np.linalg.norm(A, ord=np.inf)))\n",
    "    \n",
    "def vector_norm(v):\n",
    "    print('1-Norm des Vektors: ' + str(np.sum(np.abs(v))))\n",
    "    print('2-Norm des Vektors: ' + str(np.linalg.norm(v)))\n",
    "    n = np.linalg.norm(v, ord=np.inf)\n",
    "    print('Unendlichkeits-Norm des Vektors: ',n)"
   ]
  },
  {
   "cell_type": "code",
   "execution_count": 27,
   "metadata": {},
   "outputs": [
    {
     "name": "stdout",
     "output_type": "stream",
     "text": [
      "Die Kondition per 1-Norm der Matrix lautet: 9.047619047619047\n",
      "Die Kondition per Unendlichkeits-Norm der Matrix lautet: 7.351190476190476\n"
     ]
    }
   ],
   "source": [
    "#A = np.array([[1,2,3],[3,4,-2],[7,-3,5]])\n",
    "A = np.array([[240,120,80],[60,180,170],[60,90,500]])\n",
    "#v = np.array([-1,2,3])\n",
    "#vector_norm(v)\n",
    "cond(A)\n",
    "#matrix_norm(A)\n",
    "#matrix_norm(np.linalg.inv(A))\n"
   ]
  },
  {
   "cell_type": "code",
   "execution_count": null,
   "metadata": {},
   "outputs": [],
   "source": []
  }
 ],
 "metadata": {
  "kernelspec": {
   "display_name": "Python 3",
   "language": "python",
   "name": "python3"
  },
  "language_info": {
   "codemirror_mode": {
    "name": "ipython",
    "version": 3
   },
   "file_extension": ".py",
   "mimetype": "text/x-python",
   "name": "python",
   "nbconvert_exporter": "python",
   "pygments_lexer": "ipython3",
   "version": "3.8.3"
  }
 },
 "nbformat": 4,
 "nbformat_minor": 4
}
