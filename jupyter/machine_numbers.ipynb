{
 "cells": [
  {
   "cell_type": "markdown",
   "metadata": {},
   "source": [
    "Anzahl Maschinenzahlen:  \n",
    "m = Mantissenstellen  \n",
    "e = Exponentenstellen  \n",
    "b = Basiszahl  \n",
    "v_mantisse = Vorzeichen mantisse  \n",
    "v_exponent = Vorzeichen exponent"
   ]
  },
  {
   "cell_type": "code",
   "execution_count": 9,
   "metadata": {},
   "outputs": [
    {
     "name": "stdout",
     "output_type": "stream",
     "text": [
      "machine number amount: 2064385.0\n"
     ]
    }
   ],
   "source": [
    "m = 15\n",
    "e = 5\n",
    "b = 2\n",
    "v_mantisse = True\n",
    "v_exponent = True\n",
    "\n",
    "mantisse_kombos = b**m\n",
    "normiert = mantisse_kombos-mantisse_kombos*(1/b)\n",
    "if v_mantisse:\n",
    "    normiert = normiert*2\n",
    "if v_exponent:\n",
    "    exponent_kombos = (b**(e+1))-1\n",
    "else:\n",
    "    exponent_kombos = b^e\n",
    "result = (normiert * exponent_kombos)+1\n",
    "print('machine number amount: {}'.format(result))"
   ]
  },
  {
   "cell_type": "markdown",
   "metadata": {},
   "source": [
    "Maschinengenauigkeit  \n",
    "n = mantisse stellen  \n",
    "b = basis"
   ]
  },
  {
   "cell_type": "code",
   "execution_count": 12,
   "metadata": {},
   "outputs": [
    {
     "name": "stdout",
     "output_type": "stream",
     "text": [
      "machine precision eps: 5e-16\n"
     ]
    }
   ],
   "source": [
    "n = 16\n",
    "b = 10\n",
    "eps = (b/2)*b**(-n)\n",
    "print('machine precision eps: {}'.format(eps))"
   ]
  },
  {
   "cell_type": "code",
   "execution_count": null,
   "metadata": {},
   "outputs": [],
   "source": []
  }
 ],
 "metadata": {
  "kernelspec": {
   "display_name": "Python 3",
   "language": "python",
   "name": "python3"
  },
  "language_info": {
   "codemirror_mode": {
    "name": "ipython",
    "version": 3
   },
   "file_extension": ".py",
   "mimetype": "text/x-python",
   "name": "python",
   "nbconvert_exporter": "python",
   "pygments_lexer": "ipython3",
   "version": "3.8.3"
  }
 },
 "nbformat": 4,
 "nbformat_minor": 4
}
