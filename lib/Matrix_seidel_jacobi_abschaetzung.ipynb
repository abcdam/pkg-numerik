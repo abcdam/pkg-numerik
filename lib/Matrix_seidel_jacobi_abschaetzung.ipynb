{
 "cells": [
  {
   "cell_type": "code",
   "execution_count": 1,
   "metadata": {},
   "outputs": [],
   "source": [
    "import numpy as np\n"
   ]
  },
  {
   "cell_type": "code",
   "execution_count": 23,
   "metadata": {},
   "outputs": [],
   "source": [
    "def solve(A):\n",
    "    L = np.tril(A,-1)\n",
    "    D = np.diagflat(np.diag(A))\n",
    "    R = np.triu(A,1)\n",
    "    \n",
    "    # jacobi\n",
    "    B_1 = -1* np.matmul(np.linalg.inv(D),L+R)\n",
    "    # Gauss Seidel\n",
    "    B_2 = np.matmul(-1 * np.linalg.inv(D+L),R)\n",
    "    \n",
    "    return B_1, B_2\n",
    "\n",
    "def a_priori(B,x0,x1,eps):\n",
    "    x1x0_norm = np.linalg.norm(x1-x0, np.inf)\n",
    "    B_norm = np.linalg.norm(B,np.inf)\n",
    "    return np.log(eps/x1x0_norm*(1-B_norm))/np.log(B_norm)\n",
    "\n",
    "def a_posteriori(B,x_current,x_previous):\n",
    "    B_norm = np.linalg.norm(B,np.inf)\n",
    "    # print(B_norm)\n",
    "    xcxp_norm = np.linalg.norm(x_current-x_previous, np.inf)\n",
    "    return B_norm*xcxp_norm/(1-B_norm)\n",
    "    \n",
    "    # Jacobi & Gauss Seidel konvergiert wenn True\n",
    "def is_diagonally_dominant(A):\n",
    "    D = np.diag(np.abs(A))\n",
    "    LR = np.sum(np.abs(A), axis=1) - D\n",
    "    if np.all(D > LR): return True\n",
    "    return False\n",
    "    "
   ]
  },
  {
   "cell_type": "code",
   "execution_count": 26,
   "metadata": {},
   "outputs": [
    {
     "name": "stdout",
     "output_type": "stream",
     "text": [
      "0.2546502700000022\n",
      "86.21886762870407\n",
      "59.73132940847255\n"
     ]
    }
   ],
   "source": [
    "#A = np.array([[8,5,2],[5,9,1],[4,2,7]])\n",
    "#is_diagonally_dominant(A)\n",
    "A = np.array([[8,5,2],[5,9,1],[4,2,7]])\n",
    "x3 = np.array([[ 2.01471266],\n",
    " [-1.00535498],\n",
    " [ 3.99312276]])\n",
    "x2 = np.array([[ 2.05109127],\n",
    " [-1.01339286],\n",
    " [ 3.97463152]])\n",
    "print(a_posteriori(solve(A)[0],x3,x2))\n",
    "\n",
    "x0=np.array([[1],[-1],[3]])\n",
    "x1=np.array([[ 2.25      ],\n",
    " [-1.02777778],\n",
    " [ 3.86507937]])\n",
    "print(a_priori(solve(A)[0],x0,x1,1e-4))\n",
    "print(a_priori(solve(A)[0],x2,x3,1e-4))"
   ]
  },
  {
   "cell_type": "code",
   "execution_count": null,
   "metadata": {},
   "outputs": [],
   "source": []
  }
 ],
 "metadata": {
  "kernelspec": {
   "display_name": "Python 3",
   "language": "python",
   "name": "python3"
  },
  "language_info": {
   "codemirror_mode": {
    "name": "ipython",
    "version": 3
   },
   "file_extension": ".py",
   "mimetype": "text/x-python",
   "name": "python",
   "nbconvert_exporter": "python",
   "pygments_lexer": "ipython3",
   "version": "3.8.3"
  }
 },
 "nbformat": 4,
 "nbformat_minor": 4
}
