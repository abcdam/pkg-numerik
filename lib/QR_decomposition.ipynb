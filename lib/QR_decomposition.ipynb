{
 "cells": [
  {
   "cell_type": "code",
   "execution_count": 1,
   "metadata": {},
   "outputs": [],
   "source": [
    "import numpy as np\n",
    "\n",
    "d = False\n",
    "eps = 1e-14\n",
    "def solve(A):\n",
    "    if A.shape[0] != A.shape[1]: raise Exception('A is not an nxn Matrix')\n",
    "    householders = []\n",
    "    A_h = A\n",
    "    for i in range(len(A)-1):\n",
    "        e_i = get_unit_v(len(A)-i)\n",
    "        a_i = np.reshape(A_h[i:,i],(len(A)-i,1))\n",
    "        sign = 1 if a_i[0] >=0 else -1\n",
    "        v_i = a_i + (sign*np.linalg.norm(a_i))*e_i\n",
    "        u_i = 1/np.linalg.norm(v_i)*v_i\n",
    "        h_i = np.identity(len(A))\n",
    "        h_i[i:,i:] = h_i[i:,i:]-2*np.matmul(u_i,np.transpose(u_i))\n",
    "        A_h= np.matmul(h_i,A_h)\n",
    "        if d:\n",
    "            print('-----| {} |-----'.format(i))\n",
    "            print(\"e_{}=\\n{}\\na_{}=\\n{}\\nv_{}=\\n{}\\nu_{}=\\n{}\\nh_{}=\\n{}\\nA_{}=\\n{}\".format(i,e_i,i,a_i,i,v_i,i,u_i,i,h_i,i,A_h))\n",
    "        householders.append(np.transpose(h_i))\n",
    "        \n",
    "    Q = householders[0]\n",
    "    for i in range(1,len(householders)):\n",
    "        Q = np.matmul(Q,householders[i])\n",
    "    A_h[np.abs(A_h) < eps] = 0\n",
    "    Q[np.abs(Q) < eps] = 0\n",
    "    return [Q,A_h]\n",
    "\n",
    "def get_unit_v(length):\n",
    "    v = np.zeros(length)\n",
    "    v[0] = 1\n",
    "    return np.reshape(v,(length,1))"
   ]
  },
  {
   "cell_type": "code",
   "execution_count": 2,
   "metadata": {},
   "outputs": [
    {
     "data": {
      "text/plain": [
       "[array([[-0.19611614,  0.7190925 , -0.66666667],\n",
       "        [-0.78446454, -0.52297636, -0.33333333],\n",
       "        [-0.58834841,  0.45760432,  0.66666667]]),\n",
       " array([[-5.09901951,  0.58834841, -4.51067111],\n",
       "        [ 0.        ,  2.94174203, -3.85695066],\n",
       "        [ 0.        ,  0.        , -1.33333333]])]"
      ]
     },
     "execution_count": 2,
     "metadata": {},
     "output_type": "execute_result"
    }
   ],
   "source": [
    "A = np.array([[1,2,-1],[4,-2,6],[3,1,0]])\n",
    "solve(A)"
   ]
  },
  {
   "cell_type": "code",
   "execution_count": null,
   "metadata": {},
   "outputs": [],
   "source": []
  }
 ],
 "metadata": {
  "kernelspec": {
   "display_name": "Python 3",
   "language": "python",
   "name": "python3"
  },
  "language_info": {
   "codemirror_mode": {
    "name": "ipython",
    "version": 3
   },
   "file_extension": ".py",
   "mimetype": "text/x-python",
   "name": "python",
   "nbconvert_exporter": "python",
   "pygments_lexer": "ipython3",
   "version": "3.8.3"
  }
 },
 "nbformat": 4,
 "nbformat_minor": 4
}
