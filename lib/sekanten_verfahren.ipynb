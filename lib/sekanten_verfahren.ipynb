{
 "cells": [
  {
   "cell_type": "code",
   "execution_count": 18,
   "metadata": {},
   "outputs": [],
   "source": [
    "import numpy as np\n",
    "limit = 10"
   ]
  },
  {
   "cell_type": "code",
   "execution_count": 21,
   "metadata": {},
   "outputs": [],
   "source": [
    "def function(x):\n",
    "    return x**2-2\n",
    "def sek_step(x1,x2):\n",
    "    return x2-(x2-x1)/(function(x2)-function(x1))*function(x2)\n",
    "def sekantenverfahren(x0, x1, tol):\n",
    "    k = 0\n",
    "    while np.abs(function(x0)-function(x1))>tol:\n",
    "        x0 = sek_step(x0,x1)\n",
    "        print(x0)\n",
    "        (x0, x1) = (x1, x0)\n",
    "        k = k+1\n",
    "    return x1"
   ]
  },
  {
   "cell_type": "code",
   "execution_count": 23,
   "metadata": {},
   "outputs": [
    {
     "name": "stdout",
     "output_type": "stream",
     "text": [
      "-1.3333333333333333\n",
      "-1.4285714285714286\n",
      "-1.4137931034482758\n",
      "-1.41421143847487\n",
      "-1.4142135626888697\n",
      "-1.4142135623730947\n",
      "-1.414213562373095\n",
      "-1.4142135623730951\n",
      "-1.414213562373095\n",
      "-1.414213562373095\n",
      "-1.414213562373095\n"
     ]
    }
   ],
   "source": [
    "print(sekantenverfahren(-2,-1,1e-20))"
   ]
  },
  {
   "cell_type": "code",
   "execution_count": null,
   "metadata": {},
   "outputs": [],
   "source": []
  }
 ],
 "metadata": {
  "kernelspec": {
   "display_name": "Python 3",
   "language": "python",
   "name": "python3"
  },
  "language_info": {
   "codemirror_mode": {
    "name": "ipython",
    "version": 3
   },
   "file_extension": ".py",
   "mimetype": "text/x-python",
   "name": "python",
   "nbconvert_exporter": "python",
   "pygments_lexer": "ipython3",
   "version": "3.8.3"
  }
 },
 "nbformat": 4,
 "nbformat_minor": 4
}
