{
 "cells": [
  {
   "cell_type": "markdown",
   "metadata": {},
   "source": [
    "Ax=b  \n",
    "Input:  \n",
    "     (A,b,A_tilde,b_tilde)  \n",
    "output:  \n",
    "     (x,x_tilde,max_possible_relative_error,observed_relative_error, max_possible_abs_error, observed_abs_error)  "
   ]
  },
  {
   "cell_type": "code",
   "execution_count": 37,
   "metadata": {},
   "outputs": [],
   "source": [
    "\n",
    "import numpy as np\n",
    "\n",
    "def solve(A, A_tilde, b, b_tilde):\n",
    "    if (not(A.shape[0] == A.shape[1])):\n",
    "        raise Exception('A is misshaped.')\n",
    "        \n",
    "    if (not(A_tilde.shape[0] == A_tilde.shape[1])):\n",
    "        raise Exception('Ad is misshaped.')\n",
    "        \n",
    "    if (not(A.shape[0] == b.shape[0])):\n",
    "        raise Exception('The shape of b does not match the size of A.')\n",
    "        \n",
    "    if (not(A_tilde.shape[0] == b_tilde.shape[0])):\n",
    "        raise Exception('The shape of bd does not match the size of Ad.')\n",
    "    \n",
    "    x = np.linalg.solve(A, b)\n",
    "    \n",
    "    x_tilde = np.linalg.solve(A_tilde, b_tilde)\n",
    "    condition = np.linalg.cond(A, np.inf)\n",
    "    norm_rel_error_A = np.linalg.norm(A - A_tilde,np.inf) / np.linalg.norm(A, np.inf)\n",
    "    norm_rel_error_b = np.linalg.norm(b - b_tilde, np.inf) / np.linalg.norm(b, np.inf)\n",
    "    if (condition * norm_rel_error_A < 1):\n",
    "        dxmax = condition / (1 - (condition * norm_rel_error_A)) * (norm_rel_error_A + norm_rel_error_b)\n",
    "    else:\n",
    "        dxmax = np.NaN\n",
    "    x_max_error = np.linalg.norm(np.linalg.inv(A), np.inf)*np.linalg.norm(b-b_tilde,np.inf)\n",
    "    x_obs_error = np.linalg.norm(x-x_tilde, np.inf)\n",
    "    dxobs = np.linalg.norm(x - x_tilde, np.inf) / np.linalg.norm(x, np.inf)\n",
    "    \n",
    "    return x, x_tilde, dxmax, dxobs, x_max_error, x_obs_error"
   ]
  },
  {
   "cell_type": "code",
   "execution_count": 38,
   "metadata": {},
   "outputs": [
    {
     "name": "stdout",
     "output_type": "stream",
     "text": [
      "0.36755952380952384\n",
      "0.05\n",
      "2.844345238095238\n",
      "0.75\n"
     ]
    }
   ],
   "source": [
    "A = np.array([[240,120,80],[60,180,170],[60,90,500]])\n",
    "A = np.array([[240,120,80],[60,180,170],[60,90,500]])\n",
    "b = np.array([[3080],[4070],[5030]])\n",
    "b_tilde = np.array([[3080*1.05],[4070*1.05],[5030*1.05]])\n",
    "[x,x_tilde,max_rel_error,obs_rel_error,max_abs_error,obs_abs_error] = solve(A,A,b,b_tilde)\n",
    "print(max_rel_error)\n",
    "print(obs_rel_error)\n",
    "print(max_abs_error)\n",
    "print(obs_abs_error)"
   ]
  },
  {
   "cell_type": "code",
   "execution_count": null,
   "metadata": {},
   "outputs": [],
   "source": []
  }
 ],
 "metadata": {
  "kernelspec": {
   "display_name": "Python 3",
   "language": "python",
   "name": "python3"
  },
  "language_info": {
   "codemirror_mode": {
    "name": "ipython",
    "version": 3
   },
   "file_extension": ".py",
   "mimetype": "text/x-python",
   "name": "python",
   "nbconvert_exporter": "python",
   "pygments_lexer": "ipython3",
   "version": "3.8.3"
  }
 },
 "nbformat": 4,
 "nbformat_minor": 4
}
