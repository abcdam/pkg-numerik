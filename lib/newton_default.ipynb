{
 "cells": [
  {
   "cell_type": "code",
   "execution_count": 23,
   "metadata": {},
   "outputs": [],
   "source": [
    "import numpy as np\n",
    "steps = 20\n",
    "# tol = 0.00001"
   ]
  },
  {
   "cell_type": "code",
   "execution_count": 24,
   "metadata": {},
   "outputs": [],
   "source": [
    "def function(x):\n",
    "    return x**2-2\n",
    "def derivative(x):\n",
    "    return 2*x\n",
    "def second_derivative(x):\n",
    "    return 2\n",
    "def newton_step(x):\n",
    "    return x-function(x)/derivative(x)\n",
    "def condition(x):\n",
    "    return np.abs(function(x)*second_derivative(x)/derivative(x)**2)<1\n",
    "    \n",
    "def newton(start):\n",
    "    k=0\n",
    "    x_current=start\n",
    "    # np.abs(function(x0)-function(x1))>tol:\n",
    "    while k < steps:\n",
    "        x_current = newton_step(x_current)\n",
    "        k = k+1\n",
    "    return x_current\n",
    "    "
   ]
  },
  {
   "cell_type": "code",
   "execution_count": 26,
   "metadata": {},
   "outputs": [
    {
     "name": "stdout",
     "output_type": "stream",
     "text": [
      "True\n",
      "-1.4142135623730951\n",
      "True\n",
      "-1.4142135623730951\n",
      "True\n",
      "-1.414213562373095\n",
      "True\n",
      "-1.414213562373095\n",
      "True\n",
      "-1.414213562373095\n",
      "True\n",
      "1.414213562373095\n",
      "True\n",
      "1.414213562373095\n",
      "True\n",
      "1.414213562373095\n",
      "True\n",
      "1.4142135623730951\n"
     ]
    }
   ],
   "source": [
    "for i in range(-5,5):\n",
    "    if i == 0:continue\n",
    "    print(True) if condition(i) else print(False)\n",
    "    print(newton(i))\n"
   ]
  }
 ],
 "metadata": {
  "kernelspec": {
   "display_name": "Python 3",
   "language": "python",
   "name": "python3"
  },
  "language_info": {
   "codemirror_mode": {
    "name": "ipython",
    "version": 3
   },
   "file_extension": ".py",
   "mimetype": "text/x-python",
   "name": "python",
   "nbconvert_exporter": "python",
   "pygments_lexer": "ipython3",
   "version": "3.8.3"
  }
 },
 "nbformat": 4,
 "nbformat_minor": 4
}
